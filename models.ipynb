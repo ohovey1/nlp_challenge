{
 "cells": [
  {
   "cell_type": "markdown",
   "metadata": {},
   "source": [
    "# NLP Challenge: IMDB Dataset Sentiment Analysis\n",
    "\n",
    "This project involves solving a classification problem on movie review data. Movie reviews in this dataset have two sentiment -- positive or negative. The goal is to train ML models that can classify movie reviews into the correct category."
   ]
  },
  {
   "cell_type": "markdown",
   "metadata": {},
   "source": [
    "## Data Exploration\n",
    "\n",
    "Before model training, we will conduct some EDA."
   ]
  },
  {
   "cell_type": "code",
   "execution_count": 2,
   "metadata": {},
   "outputs": [],
   "source": [
    "import pandas as pd\n",
    "import numpy as np\n",
    "import matplotlib.pyplot as plt"
   ]
  },
  {
   "cell_type": "code",
   "execution_count": 3,
   "metadata": {},
   "outputs": [
    {
     "data": {
      "text/html": [
       "<div>\n",
       "<style scoped>\n",
       "    .dataframe tbody tr th:only-of-type {\n",
       "        vertical-align: middle;\n",
       "    }\n",
       "\n",
       "    .dataframe tbody tr th {\n",
       "        vertical-align: top;\n",
       "    }\n",
       "\n",
       "    .dataframe thead th {\n",
       "        text-align: right;\n",
       "    }\n",
       "</style>\n",
       "<table border=\"1\" class=\"dataframe\">\n",
       "  <thead>\n",
       "    <tr style=\"text-align: right;\">\n",
       "      <th></th>\n",
       "      <th>review</th>\n",
       "      <th>sentiment</th>\n",
       "    </tr>\n",
       "  </thead>\n",
       "  <tbody>\n",
       "    <tr>\n",
       "      <th>0</th>\n",
       "      <td>One of the other reviewers has mentioned that ...</td>\n",
       "      <td>positive</td>\n",
       "    </tr>\n",
       "    <tr>\n",
       "      <th>1</th>\n",
       "      <td>A wonderful little production. &lt;br /&gt;&lt;br /&gt;The...</td>\n",
       "      <td>positive</td>\n",
       "    </tr>\n",
       "    <tr>\n",
       "      <th>2</th>\n",
       "      <td>I thought this was a wonderful way to spend ti...</td>\n",
       "      <td>positive</td>\n",
       "    </tr>\n",
       "    <tr>\n",
       "      <th>3</th>\n",
       "      <td>Basically there's a family where a little boy ...</td>\n",
       "      <td>negative</td>\n",
       "    </tr>\n",
       "    <tr>\n",
       "      <th>4</th>\n",
       "      <td>Petter Mattei's \"Love in the Time of Money\" is...</td>\n",
       "      <td>positive</td>\n",
       "    </tr>\n",
       "  </tbody>\n",
       "</table>\n",
       "</div>"
      ],
      "text/plain": [
       "                                              review sentiment\n",
       "0  One of the other reviewers has mentioned that ...  positive\n",
       "1  A wonderful little production. <br /><br />The...  positive\n",
       "2  I thought this was a wonderful way to spend ti...  positive\n",
       "3  Basically there's a family where a little boy ...  negative\n",
       "4  Petter Mattei's \"Love in the Time of Money\" is...  positive"
      ]
     },
     "execution_count": 3,
     "metadata": {},
     "output_type": "execute_result"
    }
   ],
   "source": [
    "df = pd.read_csv('IMDB Dataset.csv')\n",
    "df.head()"
   ]
  },
  {
   "cell_type": "code",
   "execution_count": 4,
   "metadata": {},
   "outputs": [
    {
     "name": "stdout",
     "output_type": "stream",
     "text": [
      "<class 'pandas.core.frame.DataFrame'>\n",
      "RangeIndex: 50000 entries, 0 to 49999\n",
      "Data columns (total 2 columns):\n",
      " #   Column     Non-Null Count  Dtype \n",
      "---  ------     --------------  ----- \n",
      " 0   review     50000 non-null  object\n",
      " 1   sentiment  50000 non-null  object\n",
      "dtypes: object(2)\n",
      "memory usage: 781.4+ KB\n",
      "None \n",
      "\n",
      "                                                   review sentiment\n",
      "count                                               50000     50000\n",
      "unique                                              49582         2\n",
      "top     Loved today's show!!! It was a variety and not...  positive\n",
      "freq                                                    5     25000\n"
     ]
    }
   ],
   "source": [
    "print(df.info(), '\\n')\n",
    "print(df.describe())"
   ]
  },
  {
   "cell_type": "code",
   "execution_count": 5,
   "metadata": {},
   "outputs": [
    {
     "name": "stdout",
     "output_type": "stream",
     "text": [
      "review       0\n",
      "sentiment    0\n",
      "dtype: int64 \n",
      "\n",
      "418 \n",
      "\n",
      "sentiment\n",
      "positive    25000\n",
      "negative    25000\n",
      "Name: count, dtype: int64\n"
     ]
    }
   ],
   "source": [
    "# Check for missing values, duplicates, and class balance\n",
    "print(df.isnull().sum(), '\\n')\n",
    "print(df.duplicated().sum(), '\\n')\n",
    "print(df['sentiment'].value_counts())"
   ]
  },
  {
   "cell_type": "code",
   "execution_count": 6,
   "metadata": {},
   "outputs": [
    {
     "name": "stdout",
     "output_type": "stream",
     "text": [
      "                                                  review sentiment\n",
      "3537   Quite what the producers of this appalling ada...  negative\n",
      "3769   My favourite police series of all time turns t...  positive\n",
      "4391   Beautiful film, pure Cassavetes style. Gena Ro...  positive\n",
      "6352   If you liked the Grinch movie... go watch that...  negative\n",
      "6479   I want very much to believe that the above quo...  negative\n",
      "...                                                  ...       ...\n",
      "49912  This is an incredible piece of drama and power...  positive\n",
      "49950  This was a very brief episode that appeared in...  negative\n",
      "49984  Hello it is I Derrick Cannon and I welcome you...  negative\n",
      "49986  This movie is a disgrace to the Major League F...  negative\n",
      "49991  Les Visiteurs, the first movie about the medie...  negative\n",
      "\n",
      "[418 rows x 2 columns]\n"
     ]
    }
   ],
   "source": [
    "# Check duplicate reviews\n",
    "print(df[df.duplicated('review')])"
   ]
  },
  {
   "cell_type": "code",
   "execution_count": 7,
   "metadata": {},
   "outputs": [
    {
     "name": "stdout",
     "output_type": "stream",
     "text": [
      "sentiment\n",
      "positive    24884\n",
      "negative    24698\n",
      "Name: count, dtype: int64\n"
     ]
    }
   ],
   "source": [
    "# Remove duplicates\n",
    "df.drop_duplicates(inplace=True)\n",
    "print(df['sentiment'].value_counts())"
   ]
  },
  {
   "cell_type": "markdown",
   "metadata": {},
   "source": [
    "**Notes from preliminary EDA**\n",
    "\n",
    "1. Size: Dataset contains 50,000 entries\n",
    "2. Missing Values: Dataset contains no missing values.\n",
    "3. Duplicates: Dataset contains 418 duplicates, which we can remove for a more robust dataset.\n",
    "4. Balance: Dataset is evenly balanced, with ~25,000 positive and negtative review (after dropping duplicates)"
   ]
  },
  {
   "cell_type": "markdown",
   "metadata": {},
   "source": [
    "## Data Preprocessing\n",
    "\n",
    "Since we are dealing with raw text data, we will have to take some steps to preprocess the data for model training. Before splitting the data into testing and training sets, we will take the following steps:\n",
    "\n",
    "1. Remove special characters, HTML tags, etc.\n",
    "2. Transform words to lowercase\n",
    "3. Tokenize words\n",
    "4. Remove stop words and add stemming using NLTK\n",
    "5. Transform text data into TF-IDF (term frequency-inverse document frequency) vector so that it can be interpretted by ML models\n",
    "\n",
    "To do the above, we will utilize the NLTK module for stop word removal, stemming, and tokenization, and use sk-learn for tf-idf vectorization.\n",
    "\n",
    "After the data is processed, we'll split the data into a training set (75%) and testing set (25%)"
   ]
  },
  {
   "cell_type": "code",
   "execution_count": 8,
   "metadata": {},
   "outputs": [],
   "source": [
    "import nltk\n",
    "import re\n",
    "from nltk.corpus import stopwords\n",
    "from nltk.stem import PorterStemmer\n",
    "from nltk.tokenize import word_tokenize\n",
    "from sklearn.feature_extraction.text import TfidfVectorizer\n",
    "from sklearn.model_selection import train_test_split"
   ]
  },
  {
   "cell_type": "code",
   "execution_count": 9,
   "metadata": {},
   "outputs": [
    {
     "name": "stderr",
     "output_type": "stream",
     "text": [
      "[nltk_data] Downloading package stopwords to\n",
      "[nltk_data]     C:\\Users\\owenc\\AppData\\Roaming\\nltk_data...\n",
      "[nltk_data]   Package stopwords is already up-to-date!\n",
      "[nltk_data] Downloading package punkt to\n",
      "[nltk_data]     C:\\Users\\owenc\\AppData\\Roaming\\nltk_data...\n",
      "[nltk_data]   Package punkt is already up-to-date!\n"
     ]
    },
    {
     "data": {
      "text/plain": [
       "True"
      ]
     },
     "execution_count": 9,
     "metadata": {},
     "output_type": "execute_result"
    }
   ],
   "source": [
    "nltk.download('stopwords')\n",
    "nltk.download('punkt')"
   ]
  },
  {
   "cell_type": "code",
   "execution_count": 10,
   "metadata": {},
   "outputs": [
    {
     "data": {
      "text/html": [
       "<div>\n",
       "<style scoped>\n",
       "    .dataframe tbody tr th:only-of-type {\n",
       "        vertical-align: middle;\n",
       "    }\n",
       "\n",
       "    .dataframe tbody tr th {\n",
       "        vertical-align: top;\n",
       "    }\n",
       "\n",
       "    .dataframe thead th {\n",
       "        text-align: right;\n",
       "    }\n",
       "</style>\n",
       "<table border=\"1\" class=\"dataframe\">\n",
       "  <thead>\n",
       "    <tr style=\"text-align: right;\">\n",
       "      <th></th>\n",
       "      <th>review</th>\n",
       "      <th>sentiment</th>\n",
       "    </tr>\n",
       "  </thead>\n",
       "  <tbody>\n",
       "    <tr>\n",
       "      <th>0</th>\n",
       "      <td>one review mention watch oz episod hook right ...</td>\n",
       "      <td>positive</td>\n",
       "    </tr>\n",
       "    <tr>\n",
       "      <th>1</th>\n",
       "      <td>wonder littl product film techniqu unassum old...</td>\n",
       "      <td>positive</td>\n",
       "    </tr>\n",
       "    <tr>\n",
       "      <th>2</th>\n",
       "      <td>thought wonder way spend time hot summer weeke...</td>\n",
       "      <td>positive</td>\n",
       "    </tr>\n",
       "    <tr>\n",
       "      <th>3</th>\n",
       "      <td>basic famili littl boy jake think zombi closet...</td>\n",
       "      <td>negative</td>\n",
       "    </tr>\n",
       "    <tr>\n",
       "      <th>4</th>\n",
       "      <td>petter mattei love time money visual stun film...</td>\n",
       "      <td>positive</td>\n",
       "    </tr>\n",
       "  </tbody>\n",
       "</table>\n",
       "</div>"
      ],
      "text/plain": [
       "                                              review sentiment\n",
       "0  one review mention watch oz episod hook right ...  positive\n",
       "1  wonder littl product film techniqu unassum old...  positive\n",
       "2  thought wonder way spend time hot summer weeke...  positive\n",
       "3  basic famili littl boy jake think zombi closet...  negative\n",
       "4  petter mattei love time money visual stun film...  positive"
      ]
     },
     "execution_count": 10,
     "metadata": {},
     "output_type": "execute_result"
    }
   ],
   "source": [
    "# Define stopwords and initialize stemmer\n",
    "stop_words = set(stopwords.words('english'))\n",
    "ps = PorterStemmer()\n",
    "\n",
    "# Define function to preprocess text\n",
    "def preprocess_text(text):\n",
    "    # Remove HTML tags\n",
    "    text = re.sub(r'<.*?>', '', text)\n",
    "    # Remove non-letters\n",
    "    text = re.sub(r'[^a-zA-Z]', ' ', text)\n",
    "    # Convert to lowercase\n",
    "    text = text.lower()\n",
    "    # Tokenize\n",
    "    words = word_tokenize(text)\n",
    "    # Remove stopwords and stem\n",
    "    words = [ps.stem(w) for w in words if w not in stop_words]\n",
    "    return ' '.join(words)\n",
    "\n",
    "# Preprocess test in df\n",
    "df['review'] = df['review'].apply(preprocess_text)\n",
    "df.head()"
   ]
  },
  {
   "cell_type": "markdown",
   "metadata": {},
   "source": [
    "Observing the first few entries in the updated df, we see that:\n",
    "\n",
    "- all text is lowercased\n",
    "- no apparent HTML tags, special characters, etc.\n",
    "- text has been stemmed\n",
    "\n",
    "From here, we will use TfIdfVectorizer to fit and transform the preprocessed reviews. This will convert the raw text data into a vector of numerical TF-IDF features. This reflects the importance of a specific word relative to the document in a collection.\n",
    "\n",
    "By fitting the vectorizer on the review column, it will learn the vocabulary of the dataset. This process transforms the text data into a numerical vector that can be interpreted by ML models.\n",
    "\n",
    "The importance of this step is that it converts the unstructured text data into a structed form that can be used as input to the ML models. By using the vectorizer, we can convert the text data into numerical data while still preserving the semantic relationship between words in the dataset."
   ]
  },
  {
   "cell_type": "code",
   "execution_count": 11,
   "metadata": {},
   "outputs": [],
   "source": [
    "# Initialize TfidfVectorizer\n",
    "vectorizer = TfidfVectorizer()\n",
    "\n",
    "# Fit and transform the vectorizer\n",
    "X = vectorizer.fit_transform(df['review'])\n",
    "\n",
    "# Map the sentiment to binary\n",
    "y = df['sentiment'].map({'positive': 1, 'negative': 0})"
   ]
  },
  {
   "cell_type": "markdown",
   "metadata": {},
   "source": [
    "Now that we have our X (features) and y (target) defined, we can split the data into training (75%) and testing (25%) sets."
   ]
  },
  {
   "cell_type": "code",
   "execution_count": 12,
   "metadata": {},
   "outputs": [],
   "source": [
    "# Split data into training and testing sets\n",
    "X_train, X_test, y_train, y_test = train_test_split(X, y, test_size=0.25, random_state=42)"
   ]
  },
  {
   "cell_type": "markdown",
   "metadata": {},
   "source": [
    "## Data Modeling\n",
    "\n",
    "We will implement the following ML models to classify the data:\n",
    "\n",
    "1. Logistic Regression\n",
    "2. LinearSVC\n",
    "3. KNN\n",
    "4. Random Forest\n",
    "\n",
    "After, we will evaluate the performance by comparing accuracy, precision, recall, and f1-score of each model."
   ]
  },
  {
   "cell_type": "markdown",
   "metadata": {},
   "source": [
    "### Logistic Regression"
   ]
  },
  {
   "cell_type": "code",
   "execution_count": 13,
   "metadata": {},
   "outputs": [
    {
     "name": "stdout",
     "output_type": "stream",
     "text": [
      "              precision    recall  f1-score   support\n",
      "\n",
      "           0       0.90      0.87      0.89      6168\n",
      "           1       0.88      0.91      0.89      6228\n",
      "\n",
      "    accuracy                           0.89     12396\n",
      "   macro avg       0.89      0.89      0.89     12396\n",
      "weighted avg       0.89      0.89      0.89     12396\n",
      "\n"
     ]
    }
   ],
   "source": [
    "from sklearn.linear_model import LogisticRegression\n",
    "from sklearn.metrics import classification_report\n",
    "\n",
    "# Initialize model\n",
    "lr_model = LogisticRegression()\n",
    "\n",
    "# Fit model\n",
    "lr_model.fit(X_train, y_train)\n",
    "\n",
    "# Predict on test set\n",
    "y_pred = lr_model.predict(X_test)\n",
    "\n",
    "# Print classification report\n",
    "print(classification_report(y_test, y_pred))"
   ]
  },
  {
   "cell_type": "markdown",
   "metadata": {},
   "source": [
    "### LinearSVC (Support vector classifier)"
   ]
  },
  {
   "cell_type": "code",
   "execution_count": 14,
   "metadata": {},
   "outputs": [
    {
     "name": "stderr",
     "output_type": "stream",
     "text": [
      "c:\\Users\\owenc\\anaconda3\\Lib\\site-packages\\sklearn\\svm\\_classes.py:31: FutureWarning: The default value of `dual` will change from `True` to `'auto'` in 1.5. Set the value of `dual` explicitly to suppress the warning.\n",
      "  warnings.warn(\n"
     ]
    },
    {
     "name": "stdout",
     "output_type": "stream",
     "text": [
      "              precision    recall  f1-score   support\n",
      "\n",
      "           0       0.90      0.88      0.89      6168\n",
      "           1       0.88      0.90      0.89      6228\n",
      "\n",
      "    accuracy                           0.89     12396\n",
      "   macro avg       0.89      0.89      0.89     12396\n",
      "weighted avg       0.89      0.89      0.89     12396\n",
      "\n"
     ]
    }
   ],
   "source": [
    "from sklearn.svm import LinearSVC\n",
    "\n",
    "# Initialize model\n",
    "svm_model = LinearSVC(random_state=42)\n",
    "\n",
    "# Fit model\n",
    "svm_model.fit(X_train, y_train)\n",
    "\n",
    "# Predict on test set\n",
    "y_pred = svm_model.predict(X_test)\n",
    "\n",
    "# Print classification report\n",
    "print(classification_report(y_test, y_pred))"
   ]
  },
  {
   "cell_type": "markdown",
   "metadata": {},
   "source": [
    "### KNeighbors Classifier"
   ]
  },
  {
   "cell_type": "code",
   "execution_count": 15,
   "metadata": {},
   "outputs": [
    {
     "name": "stdout",
     "output_type": "stream",
     "text": [
      "              precision    recall  f1-score   support\n",
      "\n",
      "           0       0.82      0.70      0.76      6168\n",
      "           1       0.74      0.84      0.79      6228\n",
      "\n",
      "    accuracy                           0.77     12396\n",
      "   macro avg       0.78      0.77      0.77     12396\n",
      "weighted avg       0.78      0.77      0.77     12396\n",
      "\n"
     ]
    }
   ],
   "source": [
    "from sklearn.neighbors import KNeighborsClassifier\n",
    "\n",
    "# Initialize model\n",
    "knn_model = KNeighborsClassifier()\n",
    "\n",
    "# Fit model\n",
    "knn_model.fit(X_train, y_train)\n",
    "\n",
    "# Predict on test set\n",
    "y_pred = knn_model.predict(X_test)\n",
    "\n",
    "# Print classification report\n",
    "print(classification_report(y_test, y_pred))"
   ]
  },
  {
   "cell_type": "markdown",
   "metadata": {},
   "source": [
    "### Random Forest"
   ]
  },
  {
   "cell_type": "code",
   "execution_count": 16,
   "metadata": {},
   "outputs": [
    {
     "name": "stdout",
     "output_type": "stream",
     "text": [
      "              precision    recall  f1-score   support\n",
      "\n",
      "           0       0.85      0.84      0.84      6168\n",
      "           1       0.84      0.85      0.85      6228\n",
      "\n",
      "    accuracy                           0.84     12396\n",
      "   macro avg       0.84      0.84      0.84     12396\n",
      "weighted avg       0.84      0.84      0.84     12396\n",
      "\n"
     ]
    }
   ],
   "source": [
    "from sklearn.ensemble import RandomForestClassifier\n",
    "\n",
    "# Initialize model\n",
    "rf_model = RandomForestClassifier(random_state=42)\n",
    "\n",
    "# Fit model\n",
    "rf_model.fit(X_train, y_train)\n",
    "\n",
    "# Predict on test set\n",
    "y_pred = rf_model.predict(X_test)\n",
    "\n",
    "# Print classification report\n",
    "print(classification_report(y_test, y_pred))"
   ]
  },
  {
   "cell_type": "markdown",
   "metadata": {},
   "source": [
    "### Hyperparameter Tuning\n",
    "\n",
    "After getting a baseline for each of the models, we'll now attempt to optimize each model by using gridsearch to tune the hyperparameters.\n",
    "\n",
    "To do so, we will define a grid of hyperparameters specific to each model. Then, we'll take the best performing hyperparams and evaluate the results."
   ]
  },
  {
   "cell_type": "code",
   "execution_count": 16,
   "metadata": {},
   "outputs": [],
   "source": [
    "from sklearn.model_selection import GridSearchCV"
   ]
  },
  {
   "cell_type": "code",
   "execution_count": 17,
   "metadata": {},
   "outputs": [],
   "source": [
    "# Define hyperparameter grids\n",
    "# Logistic Regression\n",
    "lr_param_grid = {'C': [0.1, 1, 10]} # Regularization parameter\n",
    "\n",
    "# Linear SVC\n",
    "svm_param_grid = {'C': [0.1, 1, 10]} # Regularization parameter\n",
    "\n",
    "# KNN\n",
    "knn_param_grid = {'n_neighbors': [3, 5, 7]} # Number of neighbors\n",
    "\n",
    "# Random Forest\n",
    "rf_param_grid = {'n_estimators': [100, 200, 300]} # Number of estimators"
   ]
  },
  {
   "cell_type": "code",
   "execution_count": 18,
   "metadata": {},
   "outputs": [
    {
     "name": "stdout",
     "output_type": "stream",
     "text": [
      "LogisticRegression(C=1)\n"
     ]
    },
    {
     "name": "stderr",
     "output_type": "stream",
     "text": [
      "c:\\Users\\owenc\\anaconda3\\Lib\\site-packages\\sklearn\\svm\\_classes.py:31: FutureWarning: The default value of `dual` will change from `True` to `'auto'` in 1.5. Set the value of `dual` explicitly to suppress the warning.\n",
      "  warnings.warn(\n",
      "c:\\Users\\owenc\\anaconda3\\Lib\\site-packages\\sklearn\\svm\\_classes.py:31: FutureWarning: The default value of `dual` will change from `True` to `'auto'` in 1.5. Set the value of `dual` explicitly to suppress the warning.\n",
      "  warnings.warn(\n",
      "c:\\Users\\owenc\\anaconda3\\Lib\\site-packages\\sklearn\\svm\\_classes.py:31: FutureWarning: The default value of `dual` will change from `True` to `'auto'` in 1.5. Set the value of `dual` explicitly to suppress the warning.\n",
      "  warnings.warn(\n",
      "c:\\Users\\owenc\\anaconda3\\Lib\\site-packages\\sklearn\\svm\\_classes.py:31: FutureWarning: The default value of `dual` will change from `True` to `'auto'` in 1.5. Set the value of `dual` explicitly to suppress the warning.\n",
      "  warnings.warn(\n",
      "c:\\Users\\owenc\\anaconda3\\Lib\\site-packages\\sklearn\\svm\\_classes.py:31: FutureWarning: The default value of `dual` will change from `True` to `'auto'` in 1.5. Set the value of `dual` explicitly to suppress the warning.\n",
      "  warnings.warn(\n",
      "c:\\Users\\owenc\\anaconda3\\Lib\\site-packages\\sklearn\\svm\\_classes.py:31: FutureWarning: The default value of `dual` will change from `True` to `'auto'` in 1.5. Set the value of `dual` explicitly to suppress the warning.\n",
      "  warnings.warn(\n",
      "c:\\Users\\owenc\\anaconda3\\Lib\\site-packages\\sklearn\\svm\\_classes.py:31: FutureWarning: The default value of `dual` will change from `True` to `'auto'` in 1.5. Set the value of `dual` explicitly to suppress the warning.\n",
      "  warnings.warn(\n",
      "c:\\Users\\owenc\\anaconda3\\Lib\\site-packages\\sklearn\\svm\\_classes.py:31: FutureWarning: The default value of `dual` will change from `True` to `'auto'` in 1.5. Set the value of `dual` explicitly to suppress the warning.\n",
      "  warnings.warn(\n",
      "c:\\Users\\owenc\\anaconda3\\Lib\\site-packages\\sklearn\\svm\\_classes.py:31: FutureWarning: The default value of `dual` will change from `True` to `'auto'` in 1.5. Set the value of `dual` explicitly to suppress the warning.\n",
      "  warnings.warn(\n",
      "c:\\Users\\owenc\\anaconda3\\Lib\\site-packages\\sklearn\\svm\\_classes.py:31: FutureWarning: The default value of `dual` will change from `True` to `'auto'` in 1.5. Set the value of `dual` explicitly to suppress the warning.\n",
      "  warnings.warn(\n",
      "c:\\Users\\owenc\\anaconda3\\Lib\\site-packages\\sklearn\\svm\\_classes.py:31: FutureWarning: The default value of `dual` will change from `True` to `'auto'` in 1.5. Set the value of `dual` explicitly to suppress the warning.\n",
      "  warnings.warn(\n",
      "c:\\Users\\owenc\\anaconda3\\Lib\\site-packages\\sklearn\\svm\\_classes.py:31: FutureWarning: The default value of `dual` will change from `True` to `'auto'` in 1.5. Set the value of `dual` explicitly to suppress the warning.\n",
      "  warnings.warn(\n",
      "c:\\Users\\owenc\\anaconda3\\Lib\\site-packages\\sklearn\\svm\\_classes.py:31: FutureWarning: The default value of `dual` will change from `True` to `'auto'` in 1.5. Set the value of `dual` explicitly to suppress the warning.\n",
      "  warnings.warn(\n",
      "c:\\Users\\owenc\\anaconda3\\Lib\\site-packages\\sklearn\\svm\\_classes.py:31: FutureWarning: The default value of `dual` will change from `True` to `'auto'` in 1.5. Set the value of `dual` explicitly to suppress the warning.\n",
      "  warnings.warn(\n",
      "c:\\Users\\owenc\\anaconda3\\Lib\\site-packages\\sklearn\\svm\\_classes.py:31: FutureWarning: The default value of `dual` will change from `True` to `'auto'` in 1.5. Set the value of `dual` explicitly to suppress the warning.\n",
      "  warnings.warn(\n",
      "c:\\Users\\owenc\\anaconda3\\Lib\\site-packages\\sklearn\\svm\\_classes.py:31: FutureWarning: The default value of `dual` will change from `True` to `'auto'` in 1.5. Set the value of `dual` explicitly to suppress the warning.\n",
      "  warnings.warn(\n"
     ]
    },
    {
     "name": "stdout",
     "output_type": "stream",
     "text": [
      "LinearSVC(C=0.1, random_state=42)\n",
      "KNeighborsClassifier(n_neighbors=7)\n",
      "RandomForestClassifier(n_estimators=300, random_state=42)\n",
      "Logistic Regression\n",
      "               precision    recall  f1-score   support\n",
      "\n",
      "           0       0.90      0.87      0.89      6168\n",
      "           1       0.88      0.91      0.89      6228\n",
      "\n",
      "    accuracy                           0.89     12396\n",
      "   macro avg       0.89      0.89      0.89     12396\n",
      "weighted avg       0.89      0.89      0.89     12396\n",
      "\n",
      "Linear SVC\n",
      "               precision    recall  f1-score   support\n",
      "\n",
      "           0       0.91      0.87      0.89      6168\n",
      "           1       0.88      0.91      0.89      6228\n",
      "\n",
      "    accuracy                           0.89     12396\n",
      "   macro avg       0.89      0.89      0.89     12396\n",
      "weighted avg       0.89      0.89      0.89     12396\n",
      "\n",
      "KNN\n",
      "               precision    recall  f1-score   support\n",
      "\n",
      "           0       0.83      0.71      0.76      6168\n",
      "           1       0.75      0.85      0.80      6228\n",
      "\n",
      "    accuracy                           0.78     12396\n",
      "   macro avg       0.79      0.78      0.78     12396\n",
      "weighted avg       0.79      0.78      0.78     12396\n",
      "\n",
      "Random Forest\n",
      "               precision    recall  f1-score   support\n",
      "\n",
      "           0       0.86      0.84      0.85      6168\n",
      "           1       0.85      0.86      0.86      6228\n",
      "\n",
      "    accuracy                           0.85     12396\n",
      "   macro avg       0.85      0.85      0.85     12396\n",
      "weighted avg       0.85      0.85      0.85     12396\n",
      "\n"
     ]
    }
   ],
   "source": [
    "# Optimizing models using gridsearch\n",
    "# Logistic Regression\n",
    "lr_grid_search = GridSearchCV(lr_model, lr_param_grid)\n",
    "lr_grid_search.fit(X_train, y_train)\n",
    "lr_best_model = lr_grid_search.best_estimator_\n",
    "print(lr_best_model)\n",
    "y_pred_lr = lr_best_model.predict(X_test)\n",
    "\n",
    "# Linear SVC\n",
    "svm_grid_search = GridSearchCV(svm_model, svm_param_grid)\n",
    "svm_grid_search.fit(X_train, y_train)\n",
    "svm_best_model = svm_grid_search.best_estimator_\n",
    "print(svm_best_model)\n",
    "y_pred_svm = svm_best_model.predict(X_test)\n",
    "\n",
    "# KNN\n",
    "knn_grid_search = GridSearchCV(knn_model, knn_param_grid)\n",
    "knn_grid_search.fit(X_train, y_train)\n",
    "knn_best_model = knn_grid_search.best_estimator_\n",
    "print(knn_best_model)\n",
    "y_pred_knn = knn_best_model.predict(X_test)\n",
    "\n",
    "# Random Forest\n",
    "rf_grid_search = GridSearchCV(rf_model, rf_param_grid)\n",
    "rf_grid_search.fit(X_train, y_train)\n",
    "rf_best_model = rf_grid_search.best_estimator_\n",
    "print(rf_best_model)\n",
    "y_pred_rf = rf_best_model.predict(X_test)\n",
    "\n",
    "# Print classification reports\n",
    "print('Logistic Regression\\n', classification_report(y_test, y_pred_lr))\n",
    "print('Linear SVC\\n', classification_report(y_test, y_pred_svm))\n",
    "print('KNN\\n', classification_report(y_test, y_pred_knn))\n",
    "print('Random Forest\\n', classification_report(y_test, y_pred_rf))"
   ]
  },
  {
   "cell_type": "code",
   "execution_count": 17,
   "metadata": {},
   "outputs": [
    {
     "name": "stderr",
     "output_type": "stream",
     "text": [
      "c:\\Users\\owenc\\anaconda3\\Lib\\site-packages\\sklearn\\svm\\_classes.py:31: FutureWarning: The default value of `dual` will change from `True` to `'auto'` in 1.5. Set the value of `dual` explicitly to suppress the warning.\n",
      "  warnings.warn(\n"
     ]
    }
   ],
   "source": [
    "# Retraining best models due to kernel restart\n",
    "# Logistic Regression\n",
    "lr_best_model = LogisticRegression(C=10)\n",
    "lr_best_model.fit(X_train, y_train)\n",
    "y_pred_lr = lr_best_model.predict(X_test)\n",
    "\n",
    "# Linear SVC\n",
    "svm_best_model = LinearSVC(C=1, random_state=42)\n",
    "svm_best_model.fit(X_train, y_train)\n",
    "y_pred_svm = svm_best_model.predict(X_test)\n",
    "\n",
    "# KNN\n",
    "knn_best_model = KNeighborsClassifier(n_neighbors=7)\n",
    "knn_best_model.fit(X_train, y_train)\n",
    "y_pred_knn = knn_best_model.predict(X_test)\n",
    "\n",
    "# Random Forest\n",
    "rf_best_model = RandomForestClassifier(n_estimators=300, random_state=42)\n",
    "rf_best_model.fit(X_train, y_train)\n",
    "y_pred_rf = rf_best_model.predict(X_test)"
   ]
  },
  {
   "cell_type": "code",
   "execution_count": 18,
   "metadata": {},
   "outputs": [
    {
     "name": "stdout",
     "output_type": "stream",
     "text": [
      "Logistic Regression\n",
      "               precision    recall  f1-score   support\n",
      "\n",
      "           0       0.90      0.88      0.89      6168\n",
      "           1       0.88      0.90      0.89      6228\n",
      "\n",
      "    accuracy                           0.89     12396\n",
      "   macro avg       0.89      0.89      0.89     12396\n",
      "weighted avg       0.89      0.89      0.89     12396\n",
      "\n",
      "Linear SVC\n",
      "               precision    recall  f1-score   support\n",
      "\n",
      "           0       0.90      0.88      0.89      6168\n",
      "           1       0.88      0.90      0.89      6228\n",
      "\n",
      "    accuracy                           0.89     12396\n",
      "   macro avg       0.89      0.89      0.89     12396\n",
      "weighted avg       0.89      0.89      0.89     12396\n",
      "\n",
      "KNN\n",
      "               precision    recall  f1-score   support\n",
      "\n",
      "           0       0.83      0.71      0.76      6168\n",
      "           1       0.75      0.85      0.80      6228\n",
      "\n",
      "    accuracy                           0.78     12396\n",
      "   macro avg       0.79      0.78      0.78     12396\n",
      "weighted avg       0.79      0.78      0.78     12396\n",
      "\n",
      "Random Forest\n",
      "               precision    recall  f1-score   support\n",
      "\n",
      "           0       0.86      0.84      0.85      6168\n",
      "           1       0.85      0.86      0.86      6228\n",
      "\n",
      "    accuracy                           0.85     12396\n",
      "   macro avg       0.85      0.85      0.85     12396\n",
      "weighted avg       0.85      0.85      0.85     12396\n",
      "\n"
     ]
    }
   ],
   "source": [
    "# Print classification reports\n",
    "print('Logistic Regression\\n', classification_report(y_test, y_pred_lr))\n",
    "print('Linear SVC\\n', classification_report(y_test, y_pred_svm))\n",
    "print('KNN\\n', classification_report(y_test, y_pred_knn))\n",
    "print('Random Forest\\n', classification_report(y_test, y_pred_rf))"
   ]
  },
  {
   "cell_type": "markdown",
   "metadata": {},
   "source": [
    "## Results"
   ]
  },
  {
   "cell_type": "code",
   "execution_count": 21,
   "metadata": {},
   "outputs": [
    {
     "data": {
      "image/png": "[encoded data removed]",
      "text/plain": [
       "<Figure size 640x480 with 2 Axes>"
      ]
     },
     "metadata": {},
     "output_type": "display_data"
    },
    {
     "data": {
      "image/png": "[encoded data removed]",
      "text/plain": [
       "<Figure size 640x480 with 2 Axes>"
      ]
     },
     "metadata": {},
     "output_type": "display_data"
    }
   ],
   "source": [
    "# Plotting confusion matrices for logistic regression and linear SVC, the two best models\n",
    "from sklearn.metrics import confusion_matrix\n",
    "import seaborn as sns\n",
    "\n",
    "# Logistic Regression\n",
    "cm = confusion_matrix(y_test, y_pred_lr)\n",
    "sns.heatmap(cm, annot=True, fmt='d')\n",
    "plt.title('Logistic Regression')\n",
    "plt.show()\n",
    "\n",
    "# Linear SVC\n",
    "cm = confusion_matrix(y_test, y_pred_svm)\n",
    "sns.heatmap(cm, annot=True, fmt='d')\n",
    "plt.title('Linear SVC')\n",
    "plt.show()"
   ]
  },
  {
   "cell_type": "markdown",
   "metadata": {},
   "source": [
    "Based on varying metrics like accuracy, recall, precision, and by looking at the confusion matrices, we can determine that logistic regression and linear SVC were the two best performing models. This makes sense as these models are best for working with text data. We were able to train models which can classify the sentiment of a movie review with 89% accuracy -- so there is still room for improvement.\n",
    "\n",
    "In the future, it might be beneficial to implement a deep neural network as this might be able to better capture the semantical relationships between words in a review. However for the sake of this challenge, the simpler ML models will give us sufficient results."
   ]
  },
  {
   "cell_type": "markdown",
   "metadata": {},
   "source": [
    "## User Testing\n",
    "\n",
    "Finally, to show the functionality of the program, a user is able to input a custom review to check the accuracy of the models. The input will be preprocessed and each model will predict the sentiment of the inputted review."
   ]
  },
  {
   "cell_type": "code",
   "execution_count": 28,
   "metadata": {},
   "outputs": [
    {
     "name": "stdout",
     "output_type": "stream",
     "text": [
      "Review: this was a good movie\n",
      "Logistic Regression: Positive\n",
      "Linear SVC: Positive\n",
      "KNN: Positive\n",
      "Random Forest: Positive\n",
      "\n",
      "Review: this was a bad movie\n",
      "Logistic Regression: Negative\n",
      "Linear SVC: Negative\n",
      "KNN: Negative\n",
      "Random Forest: Negative\n",
      "\n",
      "Review: \n",
      "Logistic Regression: Negative\n",
      "Linear SVC: Negative\n",
      "KNN: Negative\n",
      "Random Forest: Positive\n",
      "\n"
     ]
    }
   ],
   "source": [
    "review = input(\"Enter a review. Type 'q' to exit: \")\n",
    "\n",
    "while review != 'q':\n",
    "    print(f'Review: {review}')\n",
    "\n",
    "    # Preprocess the review\n",
    "    review = preprocess_text(review)\n",
    "\n",
    "    # Convert the review into Tfidf form\n",
    "    review = vectorizer.transform([review])\n",
    "\n",
    "    # Make predictions for each model\n",
    "    lr_pred = lr_best_model.predict(review)\n",
    "    svm_pred = svm_best_model.predict(review)\n",
    "    knn_pred = knn_best_model.predict(review)\n",
    "    rf_pred = rf_best_model.predict(review)\n",
    "\n",
    "    # Print the predictions\n",
    "    print(f'Logistic Regression: {\"Positive\" if lr_pred[0] == 1 else \"Negative\"}')\n",
    "    print(f'Linear SVC: {\"Positive\" if svm_pred[0] == 1 else \"Negative\"}')\n",
    "    print(f'KNN: {\"Positive\" if knn_pred[0] == 1 else \"Negative\"}')\n",
    "    print(f'Random Forest: {\"Positive\" if rf_pred[0] == 1 else \"Negative\"}\\n')\n",
    "\n",
    "    review = input(\"Enter a review. Type 'q' to exit: \")"
   ]
  },
  {
   "cell_type": "code",
   "execution_count": null,
   "metadata": {},
   "outputs": [],
   "source": []
  }
 ],
 "metadata": {
  "kernelspec": {
   "display_name": "base",
   "language": "python",
   "name": "python3"
  },
  "language_info": {
   "codemirror_mode": {
    "name": "ipython",
    "version": 3
   },
   "file_extension": ".py",
   "mimetype": "text/x-python",
   "name": "python",
   "nbconvert_exporter": "python",
   "pygments_lexer": "ipython3",
   "version": "3.12.4"
  }
 },
 "nbformat": 4,
 "nbformat_minor": 2
}
